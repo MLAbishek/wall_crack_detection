{
 "cells": [
  {
   "cell_type": "code",
   "execution_count": 25,
   "metadata": {},
   "outputs": [],
   "source": [
    "import tensorflow as tf\n",
    "from tensorflow.keras.preprocessing.image import ImageDataGenerator"
   ]
  },
  {
   "cell_type": "code",
   "execution_count": 26,
   "metadata": {},
   "outputs": [
    {
     "name": "stdout",
     "output_type": "stream",
     "text": [
      "Found 32004 images belonging to 2 classes.\n"
     ]
    }
   ],
   "source": [
    "train_datagen=ImageDataGenerator(\n",
    "    rescale=1./255,\n",
    "    shear_range=0.2,\n",
    "    zoom_range=0.2,\n",
    "    horizontal_flip=True\n",
    ")\n",
    "training_set=train_datagen.flow_from_directory(\n",
    "    r\"D:\\programming\\models\\dataset\\train_crack\",\n",
    "    batch_size=32,\n",
    "    target_size=(64,64),\n",
    "    class_mode='binary'\n",
    ")"
   ]
  },
  {
   "cell_type": "code",
   "execution_count": 27,
   "metadata": {},
   "outputs": [
    {
     "name": "stdout",
     "output_type": "stream",
     "text": [
      "Found 7996 images belonging to 2 classes.\n"
     ]
    }
   ],
   "source": [
    "test_datagen=ImageDataGenerator(\n",
    "    rescale=1./255,\n",
    ")\n",
    "test_set=test_datagen.flow_from_directory(\n",
    "    r\"D:\\programming\\models\\dataset\\test_crack\",\n",
    "    batch_size=32,\n",
    "    target_size=(64,64),\n",
    "    class_mode='binary'\n",
    "\n",
    ")\n"
   ]
  },
  {
   "cell_type": "code",
   "execution_count": 28,
   "metadata": {},
   "outputs": [
    {
     "data": {
      "text/plain": [
       "{'Negative': 0, 'Positive': 1}"
      ]
     },
     "execution_count": 28,
     "metadata": {},
     "output_type": "execute_result"
    }
   ],
   "source": [
    "training_set.class_indices"
   ]
  },
  {
   "cell_type": "code",
   "execution_count": 30,
   "metadata": {},
   "outputs": [
    {
     "name": "stdout",
     "output_type": "stream",
     "text": [
      "Epoch 1/2\n",
      "1001/1001 [==============================] - 45s 45ms/step - loss: 0.0861 - accuracy: 0.9701 - val_loss: 0.1139 - val_accuracy: 0.9655\n",
      "Epoch 2/2\n",
      "1001/1001 [==============================] - 44s 44ms/step - loss: 0.0394 - accuracy: 0.9881 - val_loss: 0.0304 - val_accuracy: 0.9901\n"
     ]
    },
    {
     "data": {
      "text/plain": [
       "<keras.callbacks.History at 0x2b6ad21cca0>"
      ]
     },
     "execution_count": 30,
     "metadata": {},
     "output_type": "execute_result"
    }
   ],
   "source": [
    "cnn=tf.keras.models.Sequential()\n",
    "cnn.add(tf.keras.layers.Conv2D(filters=32,kernel_size=3,input_shape=[64,64,3],activation='relu'))\n",
    "cnn.add(tf.keras.layers.MaxPool2D(pool_size=2,strides=2))\n",
    "cnn.add(tf.keras.layers.Conv2D(filters=32,kernel_size=3,activation='relu'))\n",
    "cnn.add(tf.keras.layers.MaxPool2D(pool_size=2,strides=2))\n",
    "cnn.add(tf.keras.layers.Flatten())\n",
    "cnn.add(tf.keras.layers.Dense(units=120,activation='relu'))\n",
    "cnn.add(tf.keras.layers.Dense(units=1,activation='sigmoid'))\n",
    "cnn.compile(loss='binary_crossentropy',optimizer='adam',metrics=[['accuracy']])\n",
    "cnn.fit(training_set,validation_data=test_set,epochs=2)"
   ]
  },
  {
   "cell_type": "code",
   "execution_count": 31,
   "metadata": {},
   "outputs": [
    {
     "name": "stdout",
     "output_type": "stream",
     "text": [
      "{'Negative': 0, 'Positive': 1}\n"
     ]
    }
   ],
   "source": [
    "print(training_set.class_indices)"
   ]
  },
  {
   "cell_type": "code",
   "execution_count": 33,
   "metadata": {},
   "outputs": [
    {
     "name": "stdout",
     "output_type": "stream",
     "text": [
      "1/1 [==============================] - 0s 22ms/step\n",
      "wall has a crack\n"
     ]
    }
   ],
   "source": [
    "from keras.utils import img_to_array,load_img\n",
    "import numpy as np\n",
    "crack=load_img(r\"D:\\programming\\models\\dataset\\single_crack\\crack\\crack.jpeg\",target_size=(64,64))\n",
    "crack=img_to_array(crack)\n",
    "crack=np.expand_dims(crack,axis=0)\n",
    "ans=cnn.predict(crack)\n",
    "if ans[[0]]==1:\n",
    "    print(\"wall has a crack\")\n",
    "else:\n",
    "    print(\"wall doesnt have crack\")"
   ]
  },
  {
   "cell_type": "code",
   "execution_count": 34,
   "metadata": {},
   "outputs": [
    {
     "name": "stdout",
     "output_type": "stream",
     "text": [
      "1/1 [==============================] - 0s 16ms/step\n",
      "wall doesnt have crack\n"
     ]
    }
   ],
   "source": [
    "from keras.utils import img_to_array,load_img\n",
    "import numpy as np\n",
    "crack=load_img(r\"D:\\programming\\models\\dataset\\single_crack\\not crack\\not crack.jpeg\",target_size=(64,64))\n",
    "crack=img_to_array(crack)\n",
    "crack=np.expand_dims(crack,axis=0)\n",
    "ans=cnn.predict(crack)\n",
    "if ans[[0]]==1:\n",
    "    print(\"wall has a crack\")\n",
    "else:\n",
    "    print(\"wall doesnt have crack\")"
   ]
  }
 ],
 "metadata": {
  "kernelspec": {
   "display_name": "py310",
   "language": "python",
   "name": "python3"
  },
  "language_info": {
   "codemirror_mode": {
    "name": "ipython",
    "version": 3
   },
   "file_extension": ".py",
   "mimetype": "text/x-python",
   "name": "python",
   "nbconvert_exporter": "python",
   "pygments_lexer": "ipython3",
   "version": "3.10.14"
  }
 },
 "nbformat": 4,
 "nbformat_minor": 2
}
